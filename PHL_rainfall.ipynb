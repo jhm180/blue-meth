{
 "metadata": {
  "name": "PHL_rainfall"
 },
 "nbformat": 3,
 "nbformat_minor": 0,
 "worksheets": [
  {
   "cells": [
    {
     "cell_type": "code",
     "collapsed": false,
     "input": [
      "# data is NOAA's hourly precipitation amounts for PHL measured in hundredths of an inch\n",
      "# see documentation at ftp://ftp.ncdc.noaa.gov/pub/data/cdo/documentation/PRECIP_HLY_documentation.pdf\n",
      "\n",
      "import pandas as pd\n",
      "import numpy as np\n",
      "from datetime import datetime\n",
      "import matplotlib.pyplot as plt\n",
      "\n",
      "df = pd.read_csv('168853.csv', index_col = 'DATE', date_parser = lambda x: datetime.strptime(x, '%Y%m%d %H:%M'))"
     ],
     "language": "python",
     "metadata": {},
     "outputs": [],
     "prompt_number": 2
    },
    {
     "cell_type": "code",
     "collapsed": false,
     "input": [
      "# rainfall for June - exclude measurement types:\n",
      "# a - start of accumulation\n",
      "# { - start of deleted period\n",
      "# } - end of deleted period\n",
      "# [ - start of missing period\n",
      "# ] - end of missing period\n",
      "# M - missing data\n",
      "dfj = df[df.index.map(lambda dt: dt.month == 6) & (df['Measurement Flag'].map(lambda x: not x in ['a','{','}','[',']','M']))]\n",
      "dfj.HPCP = dfj.HPCP * 0.254 # convert to mm\n",
      "\n",
      "# bucket by year\n",
      "by_year = dfj.groupby(dfj.index.map(lambda dt: dt.year)).aggregate({'HPCP' : np.sum})\n",
      "\n",
      "# show min and max June rainfall years, in mm\n",
      "pd.concat([by_year.ix[by_year.idxmin(axis=0)], by_year.ix[by_year.idxmax(axis=0)]])\n"
     ],
     "language": "python",
     "metadata": {},
     "outputs": [
      {
       "html": [
        "<div style=\"max-height:1000px;max-width:1500px;overflow:auto;\">\n",
        "<table border=\"1\" class=\"dataframe\">\n",
        "  <thead>\n",
        "    <tr style=\"text-align: right;\">\n",
        "      <th></th>\n",
        "      <th>HPCP</th>\n",
        "    </tr>\n",
        "  </thead>\n",
        "  <tbody>\n",
        "    <tr>\n",
        "      <th>1949</th>\n",
        "      <td>   2.794</td>\n",
        "    </tr>\n",
        "    <tr>\n",
        "      <th>1938</th>\n",
        "      <td> 255.524</td>\n",
        "    </tr>\n",
        "  </tbody>\n",
        "</table>\n",
        "</div>"
       ],
       "output_type": "pyout",
       "prompt_number": 3,
       "text": [
        "         HPCP\n",
        "1949    2.794\n",
        "1938  255.524"
       ]
      }
     ],
     "prompt_number": 3
    },
    {
     "cell_type": "code",
     "collapsed": false,
     "input": [
      "# polynomial fit\n",
      "p3 = np.poly1d(np.polyfit(by_year.index, by_year.HPCP, 3))\n",
      "fig = plt.figure(figsize=(15,6))\n",
      "lines = plt.plot(by_year.index, by_year.HPCP, '.', by_year.index, p3(by_year.index), '-')"
     ],
     "language": "python",
     "metadata": {},
     "outputs": [
      {
       "output_type": "display_data",
       "png": "[encoded data removed]"
      }
     ],
     "prompt_number": 45
    }
   ],
   "metadata": {}
  }
 ]
}