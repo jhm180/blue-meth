{
 "metadata": {
  "name": "Rapnet-Removals_20130919"
 },
 "nbformat": 3,
 "nbformat_minor": 0,
 "worksheets": [
  {
   "cells": [
    {
     "cell_type": "code",
     "collapsed": false,
     "input": [
      "import pandas as pd\n",
      "\n",
      "import MySQLdb\n",
      "\n",
      "c = MySQLdb.connect('localhost', 'root', '3lihu_r007', 'rapnet_listings')\n",
      "\n",
      "import pandas.io.sql as psql\n",
      "\n",
      "df = psql.read_frame(\"\"\"select l.LotNum, l.Owner, le.EventCode from listing l join listing_event le on l.LotNum = le.LotNum\n",
      "where le.EventDate >= '2013-09-19' and le.EventCode = 2\n",
      "\"\"\", c, index_col = 'LotNum')"
     ],
     "language": "python",
     "metadata": {},
     "outputs": [],
     "prompt_number": 6
    },
    {
     "cell_type": "code",
     "collapsed": false,
     "input": [
      "by_owner = df.groupby('Owner').agg({'EventCode':len})"
     ],
     "language": "python",
     "metadata": {},
     "outputs": [],
     "prompt_number": 10
    },
    {
     "cell_type": "code",
     "collapsed": false,
     "input": [
      "print by_owner.sort('EventCode', ascending = False).head(10)\n"
     ],
     "language": "python",
     "metadata": {},
     "outputs": [
      {
       "output_type": "stream",
       "stream": "stdout",
       "text": [
        "          EventCode\n",
        "Owner              \n",
        "DIMPO          9483\n",
        "SAGAR          1211\n",
        "CDD            1058\n",
        "HiTech          203\n",
        "KTHK            197\n",
        "MONICA          188\n",
        "BHAVANI         168\n",
        "NIRU HK         141\n",
        "DIAOCEAN        117\n",
        "MDR             117\n"
       ]
      }
     ],
     "prompt_number": 17
    }
   ],
   "metadata": {}
  }
 ]
}