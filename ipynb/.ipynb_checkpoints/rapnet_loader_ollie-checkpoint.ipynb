{
 "metadata": {
  "name": ""
 },
 "nbformat": 3,
 "nbformat_minor": 0,
 "worksheets": [
  {
   "cells": [
    {
     "cell_type": "code",
     "collapsed": false,
     "input": [
      "import rapnet_loader as rl\n",
      "#reload(rl)\n",
      "import pandas as pd\n",
      "from datetime import datetime\n",
      "# uncomment and run the following line to see the source for rapnet_loader\n",
      "#%load /home/oliver/ipynb/rapnet_loader.py\n",
      "\n",
      "#ADD = 1\n",
      "#REMOVE = 2\n",
      "#READD = 3\n",
      "#PRICE_CHANGE = 4\n"
     ],
     "language": "python",
     "metadata": {},
     "outputs": [],
     "prompt_number": 1
    },
    {
     "cell_type": "code",
     "collapsed": false,
     "input": [
      "all_df, current_df, file_date = rl.load_cache()\n",
      "# all_df is the whole database, with the event types you see in the above cell\n",
      "# the index is a multiindex with levels ('event_type','Owner','CertNum,'event_day')\n",
      "print file_date"
     ],
     "language": "python",
     "metadata": {},
     "outputs": [
      {
       "output_type": "stream",
       "stream": "stdout",
       "text": [
        "cache load took 0:00:47.957290\n",
        "20131211\n"
       ]
      }
     ],
     "prompt_number": 2
    },
    {
     "cell_type": "code",
     "collapsed": false,
     "input": [
      "def days_on_market4(df):\n",
      "    # grp here is all rows matching the same (owner,certnum) key\n",
      "    # here we arrange by date\n",
      "    newdf = df.reset_index()\n",
      "    intervals = []\n",
      "    pending = {}\n",
      "    # the all_df frame is already sorted by date, so no need to re-sort here if it's the same df\n",
      "    #df.sortlevel(level='event_day', inplace=True)\n",
      "    for k, vals in newdf.iterrows():\n",
      "        e = vals['event_type']\n",
      "        cn = vals['CertNum']\n",
      "        if e == rl.ADD or e == rl.READD:\n",
      "            pending[cn] = (cn, vals['event_day'], vals['Owner'])\n",
      "        elif e == rl.REMOVE:\n",
      "            p = pending.get(cn, ())\n",
      "            if len(p) and p[2] == vals['Owner']:\n",
      "                intervals.append((cn, p[2], p[1], vals['event_day']))\n",
      "                del pending[cn]\n",
      "\n",
      "    return pd.DataFrame(intervals, columns = ['CertNum','Owner','day_added','day_removed'])\n"
     ],
     "language": "python",
     "metadata": {},
     "outputs": [],
     "prompt_number": 37
    },
    {
     "cell_type": "code",
     "collapsed": false,
     "input": [
      "%time df = days_on_market4(all_df)"
     ],
     "language": "python",
     "metadata": {},
     "outputs": [
      {
       "output_type": "stream",
       "stream": "stdout",
       "text": [
        "CPU times: user 38.8 s, sys: 900 ms, total: 39.7 s\n",
        "Wall time: 39.7 s\n"
       ]
      }
     ],
     "prompt_number": 38
    }
   ],
   "metadata": {}
  }
 ]
}