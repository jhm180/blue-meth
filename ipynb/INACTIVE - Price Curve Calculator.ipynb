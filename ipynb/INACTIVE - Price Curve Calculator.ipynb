{
 "metadata": {
  "name": "INACTIVE - Price Curve Calculator"
 },
 "nbformat": 3,
 "nbformat_minor": 0,
 "worksheets": [
  {
   "cells": [
    {
     "cell_type": "code",
     "collapsed": false,
     "input": [
      "import pandas as pd\n",
      "import MySQLdb\n",
      "c = MySQLdb.connect('localhost', 'root', '3lihu_r007', 'rapnet_listings')\n",
      "import pandas.io.sql as psql\n",
      "import matplotlib.pyplot as plt\n",
      "import numpy as np\n",
      "from scipy.optimize import curve_fit\n",
      "from matplotlib.backends.backend_pdf import PdfPages\n",
      "\n",
      "df = psql.read_frame(\"\"\"select l.LotNum, convert(l.Price, decimal(10,4)) as PricePerCarat, l.Shape, convert(l.Carat, decimal(10,6)) as Carat, \\\n",
      "l.Color, l.Clarity, l.CutGrade, convert(l.PctRap, decimal(10,6)) as PctRap, l.Cert, l.Depth, l.TableWidth, l.Girdle, \\\n",
      "l.Culet, l.Polish, l.Sym, l.Fluor, l.Meas, l.RapnetComment, l.NumStones, l.CertNum, l.StockNum, l.Make, l.Date, l.City, \\\n",
      "l.State, l.Country, l.Image from active_listing l where l.Cert like 'GIA' and l.Country like 'USA' and l.Polish like 'Excellent' or 'Very Good' \\\n",
      "and l.Sym like 'Excellent' or 'Very Good' and l.CutGrade like 'Excellent'  or 'Very Good' and l.Shape like 'Round' \\\n",
      "and not l.CutGrade is null and l.CutGrade <> ''\n",
      "and not l.Polish is null and l.Polish <> ''\n",
      "and not l.Sym is null and l.Sym <> ''\n",
      "and not l.Fluor is null and l.Fluor <> ''\n",
      "and not l.Price is null and l.Price <> ''\"\"\", c, index_col = 'LotNum')\n",
      "\n",
      "df['TotalPrice'] = df['PricePerCarat'] * df['Carat'] #l.Price represents price per carat\n",
      "\n",
      "colors = ['D', 'E', 'F', 'G', 'H', 'I', 'J', 'K', 'L','M']\n",
      "clars = ['IF', 'VVS1', 'VVS2', 'VS1', 'VS2', 'SI1', 'SI2','I1','I2']\n",
      "\n",
      "fluor_none_or_faint = ['Faint ', 'None ', 'Faint Blue', 'Slight', 'Very Slight ', 'Slight Blue', 'Very Slight Blue'] #Do NOT delete spaces at end of items in this list\n",
      "fluor_medium = ['Medium ', 'Medium Blue', 'Medium Yellow'] #Do NOT delete spaces at end of items in this list\n",
      "fluor_strong = ['Strong ', 'Strong Blue', 'Very Strong Blue', 'Very Strong '] #Do NOT delete spaces at end of items in this list\n",
      "\n",
      "    \n",
      "def price_curve_generator(min_carat,max_carat):\n",
      "    output_table = []\n",
      "    def market_price_curve(color,clar,min_carat,max_carat):\n",
      "        df_temp = df[(df['Carat'] >= min_carat) & (df['Carat'] < max_carat) & (df['Color'].isin(colors)) & (df['Clarity'].isin(clars))\\\n",
      "        & (df['Fluor'].isin(fluor_none_or_faint) & (df['CutGrade'] == 'Excellent') & (df['Sym'] == 'Excellent') & (df['Polish'] == 'Excellent'))]  \n",
      "        price = df_temp['TotalPrice']\n",
      "        carat = df_temp['Carat']\n",
      "        \n",
      "        #guessing the function that would best fit the data \n",
      "        def fitFunc(carat, a, b, c):\n",
      "            return a*carat**2 + b*carat + c\n",
      "         \n",
      "        #fit the function to our data    \n",
      "        fitParams, fitCovariances = curve_fit(fitFunc, carat, price)\n",
      "        \n",
      "        #Calculate the standard deviation of each data point from the model-projected value - return a factor to shift our curve bye\n",
      "        total = 0\n",
      "        for j in range(len(df_temp)):\n",
      "            total += (df_temp['PctRap'].iloc[j] - fitFunc(df_temp['Carat'].iloc[j], fitParams[0], fitParams[1], fitParams[2]))**2\n",
      "        curve_shift = sqrt(total/len(df_temp))\n",
      "        output_table.append([str(min_carat)+'-'+str(max_carat)+'-'+color+'-'+clar, fitParams[0], fitParams[1], fitParams[2],curve_shift])\n",
      "        \n",
      "    for i in colors:\n",
      "        color = i\n",
      "        for l in clars:\n",
      "            clar = l\n",
      "            market_price_curve(color,clar,min_carat,max_carat)\n",
      "    df_output_table = pd.DataFrame(output_table)\n",
      "    df_output_table.to_excel('/home/oliver/Dropbox/whitepine/%s-%s_carat_XXX_no_fluor_price_curve_params.xlsx' %(min_carat,max_carat), sheet_name='sheet1')\n",
      "    \n",
      "price_curve_generator(1.00,1.49)\n",
      "\n"
     ],
     "language": "python",
     "metadata": {},
     "outputs": [],
     "prompt_number": 251
    },
    {
     "cell_type": "code",
     "collapsed": false,
     "input": [
      "        \"\"\"\n",
      "        carat_bins = np.linspace(min_carat,max_carat,(max_carat-min_carat)*100+1)\n",
      "        for j in carat_bins:\n",
      "            df_temp_sub = df_temp[df_temp['Carat'] == j]\n",
      "            print \"Carat Wght: %s\" %(j)\n",
      "            if len(df_temp_sub) < 5:\n",
      "                pass\n",
      "            else:\n",
      "                df_temp_sub.sort(['TotalPrice'])\n",
      "                location = int(math.floor(len(df_temp_sub['TotalPrice'])*.9))\n",
      "                print average(df_temp_sub['TotalPrice'])- df_temp_sub['TotalPrice'].iloc[location]\n",
      "                total += average(df_temp_sub['TotalPrice'])- df_temp_sub['TotalPrice'].iloc[location]\n",
      "                counter += 1\n",
      "        if counter != 0:\n",
      "            curve_shift = total/counter\n",
      "        else:\n",
      "            curve_shift = 0\n",
      "        \"\"\""
     ],
     "language": "python",
     "metadata": {},
     "outputs": [
      {
       "ename": "IndentationError",
       "evalue": "unexpected indent (<ipython-input-220-3c7205bf4298>, line 1)",
       "output_type": "pyerr",
       "traceback": [
        "\u001b[0;36m  File \u001b[0;32m\"<ipython-input-220-3c7205bf4298>\"\u001b[0;36m, line \u001b[0;32m1\u001b[0m\n\u001b[0;31m    \"\"\"\u001b[0m\n\u001b[0m    ^\u001b[0m\n\u001b[0;31mIndentationError\u001b[0m\u001b[0;31m:\u001b[0m unexpected indent\n"
       ]
      }
     ],
     "prompt_number": 220
    },
    {
     "cell_type": "code",
     "collapsed": false,
     "input": [],
     "language": "python",
     "metadata": {},
     "outputs": []
    }
   ],
   "metadata": {}
  }
 ]
}