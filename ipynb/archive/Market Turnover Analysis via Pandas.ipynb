{
 "metadata": {
  "name": "Market Turnover Analysis via Pandas"
 },
 "nbformat": 3,
 "nbformat_minor": 0,
 "worksheets": [
  {
   "cells": [
    {
     "cell_type": "code",
     "collapsed": false,
     "input": [
      "import pandas as pd\n",
      "\n",
      "import MySQLdb\n",
      "\n",
      "c = MySQLdb.connect('localhost', 'root', '3lihu_r007', 'rapnet_listings')\n",
      "\n",
      "import pandas.io.sql as psql\n",
      "\n",
      "# MODIFY QUERY BELOW TO INCLUDE ALL LISTINGS\n",
      "\n",
      "df = psql.read_frame(\"\"\"select l.LotNum, l.Owner, convert(l.Price, decimal(10,4)) as PricePerCarat, l.Shape, convert(l.Carat, decimal(10,6)) as Carat, l.Color, l.Clarity, \n",
      "l.CutGrade, convert(l.PctRap, decimal(10,6)) as PctRap, l.Cert, convert(l.Depth, decimal(10,6)) as Depth, convert(l.TableWidth, decimal(10,6)) as TableWidth, l.Girdle, \n",
      "l.Culet, l.Polish, l.Sym, l.Fluor, l.Meas, l.RapnetComment, l.NumStones, l.CertNum, l.StockNum, l.Make, l.Date, l.City,\n",
      "l.State, l.Country, l.Image from listing l where l.Cert like 'GIA' and l.Shape like 'Round' and Carat >= 1.3 and Carat < 1.32\n",
      "and not l.Color is null and l.Color <> \"\"\n",
      "and (l.Color like 'D' or l.color like 'E' or l.color like 'F' or l.color like 'G' or l.color like 'H' or l.color like 'I' or l.color like 'J'\\\n",
      " or l.color like 'K' or l.color like 'L' or l.color like 'M')\n",
      "and (l.Clarity like 'IF' or l.Clarity like 'VVS1' or l.Clarity like 'VVS2' or l.Clarity like 'VS1' or l.Clarity like 'VS2' or l.Clarity like 'SI1' \\\n",
      " or l.Clarity like 'SI2' or l.Clarity like 'SI3' or l.Clarity like 'I1' or l.Clarity like 'I2' or l.Clarity like 'I3')\n",
      "and not l.Clarity is null and l.Clarity <> \"\"\n",
      "and not l.CutGrade is null and l.CutGrade <> ''\n",
      "and not l.Polish is null and l.Polish <> ''\n",
      "and not l.Sym is null and l.Sym <> ''\n",
      "and not l.Fluor is null and l.Fluor <> ''\n",
      "and not l.Price is null and l.Price <> ''\"\"\", c, index_col = 'LotNum')\n",
      "\n",
      "print len(df)\n"
     ],
     "language": "python",
     "metadata": {},
     "outputs": [
      {
       "output_type": "stream",
       "stream": "stdout",
       "text": [
        "2882\n"
       ]
      }
     ],
     "prompt_number": 93
    },
    {
     "cell_type": "code",
     "collapsed": false,
     "input": [
      "# get the removals\n",
      "df_evts = psql.read_frame(\"\"\"select eventid, lotnum, price, `date`, eventdate, eventcode from listing_event\"\"\", c, index_col = 'eventid')\n",
      "\n",
      "df_evts = df_evts.sort('eventdate', ascending=True)"
     ],
     "language": "python",
     "metadata": {},
     "outputs": [],
     "prompt_number": 145
    },
    {
     "cell_type": "code",
     "collapsed": false,
     "input": [
      "def datetime_to_date(datetime):\n",
      "    return datetime.date()\n",
      "    \n",
      "df_evts['EventDateOnly'] = df_evts['eventdate'].apply(datetime_to_date)"
     ],
     "language": "python",
     "metadata": {},
     "outputs": [],
     "prompt_number": 146
    },
    {
     "cell_type": "code",
     "collapsed": false,
     "input": [
      "#creat df of sold stones and sell date\n",
      "\n",
      "from datetime import date\n",
      "from dateutil.relativedelta import relativedelta\n",
      "\n",
      "sold_stones = {'LotNum': [], 'DateSold': []}\n",
      "for lotnum, group in df_evts.groupby('lotnum'):\n",
      "    if group['EventDateOnly'].iloc[-1] <=  (date.today() + relativedelta( months = -1 )) and group['eventcode'].iloc[-1] == 2:\n",
      "        sold_stones['LotNum'].append(lotnum)\n",
      "        sold_stones['DateSold'].append(group['EventDateOnly'].iloc[-1])\n",
      "    else:\n",
      "        sold_stones['LotNum'].append(lotnum)\n",
      "        sold_stones['DateSold'].append(NaN)\n",
      "\n",
      "\n",
      "arrays = [sold_stones['LotNum']]\n",
      "tuples = zip(*arrays)\n",
      "index = pd.MultiIndex.from_tuples(tuples)\n",
      "df_sold_stones = pd.DataFrame(sold_stones, index=index)\n",
      "\n",
      "print len(df_sold_stones)"
     ],
     "language": "python",
     "metadata": {},
     "outputs": [
      {
       "output_type": "stream",
       "stream": "stdout",
       "text": [
        "760036\n"
       ]
      }
     ],
     "prompt_number": 147
    },
    {
     "cell_type": "code",
     "collapsed": false,
     "input": [
      "# add date sold to big DF\n",
      "df_added = df.join(df_sold_stones)\n",
      "\n",
      "\n",
      "\n",
      "# add date listed to big DF\n",
      "\n",
      "\n"
     ],
     "language": "python",
     "metadata": {},
     "outputs": [],
     "prompt_number": 115
    },
    {
     "cell_type": "code",
     "collapsed": false,
     "input": [
      "single_removals = []\n",
      "\n",
      "for lotnum, group in df_evts.groupby('lotnum'):\n",
      "    if len(group) == 1:\n",
      "        single_removals.append(lotnum)\n",
      "\n",
      "print len(single_removals)        \n",
      "        "
     ],
     "language": "python",
     "metadata": {},
     "outputs": [
      {
       "output_type": "stream",
       "stream": "stdout",
       "text": [
        "512539\n"
       ]
      }
     ],
     "prompt_number": 55
    },
    {
     "cell_type": "code",
     "collapsed": false,
     "input": [],
     "language": "python",
     "metadata": {},
     "outputs": [],
     "prompt_number": 104
    },
    {
     "cell_type": "code",
     "collapsed": false,
     "input": [
      "print df\n",
      "print df_added\n",
      "print len(df_sold_stones)"
     ],
     "language": "python",
     "metadata": {},
     "outputs": [
      {
       "output_type": "stream",
       "stream": "stdout",
       "text": [
        "<class 'pandas.core.frame.DataFrame'>\n",
        "Int64Index: 2882 entries, 14889316 to 48584578\n",
        "Data columns (total 27 columns):\n",
        "Owner            2882  non-null values\n",
        "PricePerCarat    2882  non-null values\n",
        "Shape            2882  non-null values\n",
        "Carat            2882  non-null values\n",
        "Color            2882  non-null values\n",
        "Clarity          2882  non-null values\n",
        "CutGrade         2882  non-null values\n",
        "PctRap           2882  non-null values\n",
        "Cert             2882  non-null values\n",
        "Depth            2882  non-null values\n",
        "TableWidth       2882  non-null values\n",
        "Girdle           2882  non-null values\n",
        "Culet            2882  non-null values\n",
        "Polish           2882  non-null values\n",
        "Sym              2882  non-null values\n",
        "Fluor            2882  non-null values\n",
        "Meas             2882  non-null values\n",
        "RapnetComment    2882  non-null values\n",
        "NumStones        2882  non-null values\n",
        "CertNum          2882  non-null values\n",
        "StockNum         2882  non-null values\n",
        "Make             2882  non-null values\n",
        "Date             2882  non-null values\n",
        "City             2882  non-null values\n",
        "State            2882  non-null values\n",
        "Country          2882  non-null values\n",
        "Image            2882  non-null values\n",
        "dtypes: datetime64[ns](1), float64(5), object(21)\n",
        "<class 'pandas.core.frame.DataFrame'>\n",
        "Int64Index: 2882 entries, 14889316 to 48584578\n",
        "Data columns (total 29 columns):\n",
        "Owner            2882  non-null values\n",
        "PricePerCarat    2882  non-null values\n",
        "Shape            2882  non-null values\n",
        "Carat            2882  non-null values\n",
        "Color            2882  non-null values\n",
        "Clarity          2882  non-null values\n",
        "CutGrade         2882  non-null values\n",
        "PctRap           2882  non-null values\n",
        "Cert             2882  non-null values\n",
        "Depth            2882  non-null values\n",
        "TableWidth       2882  non-null values\n",
        "Girdle           2882  non-null values\n",
        "Culet            2882  non-null values\n",
        "Polish           2882  non-null values\n",
        "Sym              2882  non-null values\n",
        "Fluor            2882  non-null values\n",
        "Meas             2882  non-null values\n",
        "RapnetComment    2882  non-null values\n",
        "NumStones        2882  non-null values\n",
        "CertNum          2882  non-null values\n",
        "StockNum         2882  non-null values\n",
        "Make             2882  non-null values\n",
        "Date             2882  non-null values\n",
        "City             2882  non-null values\n",
        "State            2882  non-null values\n",
        "Country          2882  non-null values\n",
        "Image            2882  non-null values\n",
        "DateSold         1865  non-null values\n",
        "LotNum           1865  non-null values\n",
        "dtypes: datetime64[ns](1), float64(6), object(22)\n",
        "536933\n"
       ]
      }
     ],
     "prompt_number": 116
    },
    {
     "cell_type": "code",
     "collapsed": false,
     "input": [
      "df_added.to_excel('/home/oliver/Dropbox/whitepine/test.xlsx', sheet_name = 'sheet1')"
     ],
     "language": "python",
     "metadata": {},
     "outputs": [],
     "prompt_number": 137
    },
    {
     "cell_type": "code",
     "collapsed": false,
     "input": [],
     "language": "python",
     "metadata": {},
     "outputs": [],
     "prompt_number": 140
    },
    {
     "cell_type": "code",
     "collapsed": false,
     "input": [
      "df_grouped = df_evts.groupby('lotnum')\n",
      "\n"
     ],
     "language": "python",
     "metadata": {},
     "outputs": [],
     "prompt_number": 122
    },
    {
     "cell_type": "code",
     "collapsed": false,
     "input": [
      "print df_grouped.loc[37585565]"
     ],
     "language": "python",
     "metadata": {},
     "outputs": [
      {
       "output_type": "stream",
       "stream": "stdout",
       "text": [
        "<pandas.core.indexing._LocIndexer object at 0x8b035310>\n"
       ]
      }
     ],
     "prompt_number": 142
    },
    {
     "cell_type": "code",
     "collapsed": false,
     "input": [
      "geeze = df_grouped.loc[37585565]"
     ],
     "language": "python",
     "metadata": {},
     "outputs": [],
     "prompt_number": 143
    },
    {
     "cell_type": "code",
     "collapsed": false,
     "input": [
      "print geeze"
     ],
     "language": "python",
     "metadata": {},
     "outputs": [
      {
       "output_type": "stream",
       "stream": "stdout",
       "text": [
        "<pandas.core.indexing._LocIndexer object at 0x8b035210>\n"
       ]
      }
     ],
     "prompt_number": 144
    },
    {
     "cell_type": "code",
     "collapsed": false,
     "input": [],
     "language": "python",
     "metadata": {},
     "outputs": []
    },
    {
     "cell_type": "code",
     "collapsed": false,
     "input": [
      "print (date.today() + relativedelta( months = -1 ))\n",
      "if (date.today() + relativedelta( months = -1 )) > date.today():\n",
      "    print \"crap\"\n",
      "elif (date.today() + relativedelta( months = -1 )) < date.today(): \n",
      "    print \"shoot\""
     ],
     "language": "python",
     "metadata": {},
     "outputs": [
      {
       "output_type": "stream",
       "stream": "stdout",
       "text": [
        "2013-09-23\n",
        "shoot\n"
       ]
      }
     ],
     "prompt_number": 151
    },
    {
     "cell_type": "code",
     "collapsed": false,
     "input": [],
     "language": "python",
     "metadata": {},
     "outputs": []
    }
   ],
   "metadata": {}
  }
 ]
}