{
 "metadata": {
  "name": "Rapnet"
 },
 "nbformat": 3,
 "nbformat_minor": 0,
 "worksheets": [
  {
   "cells": [
    {
     "cell_type": "code",
     "collapsed": false,
     "input": [
      "import pandas as pd\n",
      "\n",
      "import MySQLdb\n",
      "\n",
      "c = MySQLdb.connect('localhost', 'root', '3lihu_r007', 'rapnet_listings')\n",
      "\n",
      "import pandas.io.sql as psql\n",
      "\n",
      "multi_removal_query = \"\"\"select ge.LotNum, ge.Price, ge.EventCount, l.Shape, l.Carat, l.Color, l.Clarity, l.CutGrade, l.Price, l.PctRap, l.Cert, l.Depth, l.TableWidth, l.Girdle, \n",
      "l.Culet, l.Polish, l.Sym, l.Fluor, l.Meas, l.RapnetComment, l.NumStones, l.CertNum, l.StockNum, l.Make, l.Date, l.City,\n",
      "l.State, l.Country, l.Image \n",
      "from\n",
      "    listing l join (select le.LotNum, avg(le.Price) as Price, count(le.LotNum) as EventCount from\n",
      "\t\tlisting_event le join listing_event_code lec\n",
      "\t\ton le.EventCode = lec.Code\n",
      "\t\twhere lec.Description = 'Removed'\n",
      "\t\tgroup by le.LotNum) ge\n",
      "    on l.LotNum = ge.LotNum\n",
      "    where ge.EventCount > 1\n",
      "\"\"\"\n",
      "\n",
      "single_removal_query = \"\"\"select ge.LotNum, ge.Price, ge.EventCount, l.Shape, l.Carat, l.Color, l.Clarity, l.CutGrade, l.Price, l.PctRap, l.Cert, l.Depth, l.TableWidth, l.Girdle, \n",
      "l.Culet, l.Polish, l.Sym, l.Fluor, l.Meas, l.RapnetComment, l.NumStones, l.CertNum, l.StockNum, l.Make, l.Date, l.City,\n",
      "l.State, l.Country, l.Image \n",
      "from\n",
      "    listing l join (select le.LotNum, avg(le.Price) as Price, count(le.LotNum) as EventCount from\n",
      "\t\tlisting_event le join listing_event_code lec\n",
      "\t\ton le.EventCode = lec.Code\n",
      "\t\twhere lec.Description = 'Removed'\n",
      "\t\tgroup by le.LotNum) ge\n",
      "    on l.LotNum = ge.LotNum\n",
      "    where ge.EventCount = 1\n",
      "\"\"\"\n"
     ],
     "language": "python",
     "metadata": {},
     "outputs": []
    },
    {
     "cell_type": "code",
     "collapsed": false,
     "input": [
      "import re, glob, os\n",
      "from os import path\n",
      "\n",
      "frex = re.compile('Rapnet_([0-9]+)_Main*')\n",
      "\n",
      "dates = []\n",
      "for f in glob.glob('/home/oliver/rapnet_data/Rapnet_*_Main*'):\n",
      "    m = frex.match(path.split(f)[1])\n",
      "    if m != None:\n",
      "        dates.append(int(m.group(1)))\n",
      "        #os.system('/home/oliver/src/mygo/bin/wpcmd import {0}'.format(m.group(1)))\n",
      "dates.sort()\n",
      "    "
     ],
     "language": "python",
     "metadata": {},
     "outputs": [],
     "prompt_number": "*"
    }
   ],
   "metadata": {}
  }
 ]
}