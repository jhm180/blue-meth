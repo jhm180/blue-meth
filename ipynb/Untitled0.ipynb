{
 "metadata": {
  "name": "",
  "signature": "sha256:d7200772a2d1de53b00d04b0e5c03ce4709f75f20b4ad3ca22fc43e7e4a94a52"
 },
 "nbformat": 3,
 "nbformat_minor": 0,
 "worksheets": [
  {
   "cells": [
    {
     "cell_type": "code",
     "collapsed": false,
     "input": [
      "%load /home/oliver/Dropbox/whitepine/lib/cron.py"
     ],
     "language": "python",
     "metadata": {},
     "outputs": [],
     "prompt_number": 1
    },
    {
     "cell_type": "code",
     "collapsed": false,
     "input": [
      "# this file gets run nightly after the rapnet_import script\n",
      "# any printed output of this script will be sent to Ollie's email, so try not to use print much\n",
      "\n",
      "###################\n",
      "##### LOAD ACTIVE LISTINGS FROM SQL DATABASE & DEFINE SOME GLOBAL VARIABLES\n",
      "###################\n",
      "\n",
      "import pandas as pd\n",
      "import numpy as np\n",
      "import pandas.io.sql as psql\n",
      "import matplotlib\n",
      "# Force matplotlib to not use any Xwindows backend.\n",
      "matplotlib.use('Agg')\n",
      "import matplotlib.pyplot as plt\n",
      "import pylab as pl\n",
      "from scipy.optimize import curve_fit\n",
      "from matplotlib.backends.backend_pdf import PdfPages\n",
      "import math\n",
      "import sys\n",
      "sys.path.insert(0, '/home/oliver/src/blue-meth/ipynb')\n",
      "import rapnet_loader as rl\n",
      "\n",
      "all_df, current_df, file_date = rl.load_cache()\n"
     ],
     "language": "python",
     "metadata": {},
     "outputs": [
      {
       "output_type": "stream",
       "stream": "stdout",
       "text": [
        "cache load took 0:03:44.082549\n"
       ]
      },
      {
       "output_type": "stream",
       "stream": "stderr",
       "text": [
        "/usr/lib/pymodules/python2.7/matplotlib/__init__.py:1035: UserWarning:  This call to matplotlib.use() has no effect\n",
        "because the the backend has already been chosen;\n",
        "matplotlib.use() must be called *before* pylab, matplotlib.pyplot,\n",
        "or matplotlib.backends is imported for the first time.\n",
        "\n",
        "  warnings.warn(_use_error_msg)\n"
       ]
      }
     ],
     "prompt_number": 2
    },
    {
     "cell_type": "code",
     "collapsed": false,
     "input": [
      "# this file gets run nightly after the rapnet_import script\n",
      "# any printed output of this script will be sent to Ollie's email, so try not to use print much\n",
      "\n",
      "###################\n",
      "##### LOAD ACTIVE LISTINGS FROM SQL DATABASE & DEFINE SOME GLOBAL VARIABLES\n",
      "###################\n",
      "\n",
      "import pandas as pd\n",
      "import numpy as np\n",
      "import pandas.io.sql as psql\n",
      "import matplotlib\n",
      "# Force matplotlib to not use any Xwindows backend.\n",
      "matplotlib.use('Agg')\n",
      "import matplotlib.pyplot as plt\n",
      "import pylab as pl\n",
      "from scipy.optimize import curve_fit\n",
      "from matplotlib.backends.backend_pdf import PdfPages\n",
      "import math\n",
      "import sys\n",
      "sys.path.insert(0, '/home/oliver/src/blue-meth/ipynb')\n",
      "import rapnet_loader as rl\n",
      "\n",
      "all_df, current_df, file_date = rl.load_cache()\n",
      "\n",
      "print \"fin\""
     ],
     "language": "python",
     "metadata": {},
     "outputs": [
      {
       "output_type": "stream",
       "stream": "stdout",
       "text": [
        "cache load took 0:02:38.545354\n",
        "fin\n"
       ]
      },
      {
       "output_type": "stream",
       "stream": "stderr",
       "text": [
        "/usr/lib/pymodules/python2.7/matplotlib/__init__.py:1035: UserWarning:  This call to matplotlib.use() has no effect\n",
        "because the the backend has already been chosen;\n",
        "matplotlib.use() must be called *before* pylab, matplotlib.pyplot,\n",
        "or matplotlib.backends is imported for the first time.\n",
        "\n",
        "  warnings.warn(_use_error_msg)\n"
       ]
      }
     ],
     "prompt_number": 2
    },
    {
     "cell_type": "code",
     "collapsed": false,
     "input": [
      "reset = all_df.reset_index()\n",
      "\n",
      "print max(reset['event_day'])"
     ],
     "language": "python",
     "metadata": {},
     "outputs": [
      {
       "output_type": "stream",
       "stream": "stdout",
       "text": [
        "2014-10-20 00:00:00\n"
       ]
      }
     ],
     "prompt_number": 3
    },
    {
     "cell_type": "code",
     "collapsed": false,
     "input": [
      "reset = current_df.reset_index()\n",
      "\n",
      "reset['Owner'].to_csv('/home/oliver/Dropbox/whitepine/owners.csv')"
     ],
     "language": "python",
     "metadata": {},
     "outputs": [],
     "prompt_number": 54
    },
    {
     "cell_type": "code",
     "collapsed": false,
     "input": [
      "quarters = current_df[(current_df['Carat'] >= .23) & (current_df['Carat'] <= .29)]# & (current_df['Shape'] == 'Round')]# &\\\n",
      "                      #(current_df['Cert'] == 'GIA')]\n",
      "\n",
      "print len(quarters)"
     ],
     "language": "python",
     "metadata": {},
     "outputs": [
      {
       "output_type": "stream",
       "stream": "stdout",
       "text": [
        "5267\n"
       ]
      }
     ],
     "prompt_number": 82
    },
    {
     "cell_type": "code",
     "collapsed": false,
     "input": [
      "print len(current_df)"
     ],
     "language": "python",
     "metadata": {},
     "outputs": [
      {
       "output_type": "stream",
       "stream": "stdout",
       "text": [
        "235666\n"
       ]
      }
     ],
     "prompt_number": 80
    },
    {
     "cell_type": "code",
     "collapsed": false,
     "input": [
      "\n",
      "#\n",
      "# Get Authentication Ticket\n",
      "#\n",
      "import httplib, urllib\n",
      "params = urllib.urlencode({'username': 'abrown', 'password': 'abrown5355'})\n",
      "headers = {\"Content-type\": \"application/x-www-form-urlencoded\", \"Accept\": \"text/plain\"}\n",
      "conn = httplib.HTTPSConnection(\"technet.rapaport.com\")\n",
      "conn.request(\"POST\", \"/HTTP/Authenticate.aspx\", params, headers)\n",
      "response = conn.getresponse()\n",
      "auth_ticket = response.read()\n",
      "conn.close()\n",
      "\n",
      "#\n",
      "# Get the download\n",
      "#\n",
      "import httplib, urllib\n",
      "try:\n",
      "    output_file = open('download.csv', 'w')\n",
      "\n",
      "    params = urllib.urlencode({ 'ticket': auth_ticket })\n",
      "\n",
      "    headers = {\"Content-type\": \"application/x-www-form-urlencoded\", \"Accept\": \"text/plain\"}\n",
      "\n",
      "    conn = httplib.HTTPConnection(\"technet.rapaport.com\")\n",
      "\n",
      "    url = \"/HTTP/DLS/GetFile.aspx\"\n",
      "\n",
      "    conn.request(\"POST\", url, params, headers)\n",
      "\n",
      "    response = conn.getresponse()\n",
      "    data = response.read()\n",
      "    output_file.write( data )\n",
      "\n",
      "    conn.close()\n",
      "    output_file.close()\n",
      "except IOError:\n",
      "    output_file = open('download.csv', 'w')\n",
      "    output_file.close() "
     ],
     "language": "python",
     "metadata": {},
     "outputs": [],
     "prompt_number": 8
    },
    {
     "cell_type": "code",
     "collapsed": false,
     "input": [],
     "language": "python",
     "metadata": {},
     "outputs": []
    }
   ],
   "metadata": {}
  }
 ]
}