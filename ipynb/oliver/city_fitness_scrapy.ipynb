{
 "metadata": {
  "name": "",
  "signature": "sha256:18577f1c955bc49f825625832ceedcd425b02976a4711ca988113dcaf6294a03"
 },
 "nbformat": 3,
 "nbformat_minor": 0,
 "worksheets": [
  {
   "cells": [
    {
     "cell_type": "code",
     "collapsed": false,
     "input": [
      "#from scrapy.item import Item, Field\n",
      "import json\n",
      "\n",
      "#url = \"\"\"https://mico.myiclubonline.com/iclub/members#activities/classes\"\"\"\n",
      "\"\"\"https://mico.myiclubonline.com/iclub/scheduling/classSchedule.htm?club=6844&lowDate=04%2F06%2F2014&highDate=04%2F12%2F2014&_=1396815302101\"\"\"\n",
      "\"\"\"https://mico.myiclubonline.com/iclub/scheduling/memberSchedule.htm?lowDate=04%2F06%2F2014&highDate=04%2F12%2F2014&_=1396815302103\"\"\"\n",
      "class ClassItem(Item):\n",
      "    url = Field()\n",
      "    name = Field()\n",
      "    description = Field()\n",
      "    classTime = Field()"
     ],
     "language": "python",
     "metadata": {},
     "outputs": []
    }
   ],
   "metadata": {}
  }
 ]
}