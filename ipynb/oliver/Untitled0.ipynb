{
 "metadata": {
  "name": "",
  "signature": "sha256:35b17c473027455099414a06985e53b8dce6c625f1e0a3d77728fcd18f678f5e"
 },
 "nbformat": 3,
 "nbformat_minor": 0,
 "worksheets": [
  {
   "cells": [
    {
     "cell_type": "code",
     "collapsed": false,
     "input": [
      "%ls /var/log/"
     ],
     "language": "python",
     "metadata": {},
     "outputs": [
      {
       "output_type": "stream",
       "stream": "stdout",
       "text": [
        "alternatives.log        \u001b[0m\u001b[01;31mapport.log.2.gz\u001b[0m  auth.log       dmesg.0         \u001b[01;31mdpkg.log.6.gz\u001b[0m      kern.log       \u001b[01;31mmail.log.4.gz\u001b[0m     pm-powersave.log.1     \u001b[01;31msyslog.7.gz\u001b[0m\r\n",
        "alternatives.log.1      \u001b[01;31mapport.log.3.gz\u001b[0m  auth.log.1     \u001b[01;31mdmesg.1.gz\u001b[0m      \u001b[01;31mdpkg.log.7.gz\u001b[0m      kern.log.1     \u001b[01;34mmysql\u001b[0m/            \u001b[01;31mpm-powersave.log.2.gz\u001b[0m  udev\r\n",
        "\u001b[01;31malternatives.log.10.gz\u001b[0m  \u001b[01;31mapport.log.4.gz\u001b[0m  \u001b[01;31mauth.log.2.gz\u001b[0m  \u001b[01;31mdmesg.2.gz\u001b[0m      \u001b[01;31mdpkg.log.8.gz\u001b[0m      \u001b[01;31mkern.log.2.gz\u001b[0m  mysql.err         \u001b[01;31mpm-powersave.log.3.gz\u001b[0m  ufw.log\r\n",
        "\u001b[01;31malternatives.log.11.gz\u001b[0m  \u001b[01;31mapport.log.5.gz\u001b[0m  \u001b[01;31mauth.log.3.gz\u001b[0m  \u001b[01;31mdmesg.3.gz\u001b[0m      \u001b[01;31mdpkg.log.9.gz\u001b[0m      \u001b[01;31mkern.log.3.gz\u001b[0m  mysql.log         \u001b[01;31mpm-powersave.log.4.gz\u001b[0m  \u001b[01;34munattended-upgrades\u001b[0m/\r\n",
        "\u001b[01;31malternatives.log.2.gz\u001b[0m   \u001b[01;31mapport.log.6.gz\u001b[0m  \u001b[01;31mauth.log.4.gz\u001b[0m  \u001b[01;31mdmesg.4.gz\u001b[0m      fail2ban.log       \u001b[01;31mkern.log.4.gz\u001b[0m  \u001b[01;31mmysql.log.1.gz\u001b[0m    \u001b[01;34mredis\u001b[0m/                 \u001b[01;34mupstart\u001b[0m/\r\n",
        "\u001b[01;31malternatives.log.3.gz\u001b[0m   \u001b[01;31mapport.log.7.gz\u001b[0m  boot           dpkg.log        fail2ban.log.1     lastlog        \u001b[01;31mmysql.log.2.gz\u001b[0m    \u001b[01;34msamba\u001b[0m/                 wtmp\r\n",
        "\u001b[01;31malternatives.log.4.gz\u001b[0m   \u001b[01;34mapt\u001b[0m/             boot.log       dpkg.log.1      \u001b[01;31mfail2ban.log.2.gz\u001b[0m  \u001b[01;34mlibvirt\u001b[0m/       \u001b[01;31mmysql.log.3.gz\u001b[0m    \u001b[01;34mspeech-dispatcher\u001b[0m/     wtmp.1\r\n",
        "\u001b[01;31malternatives.log.5.gz\u001b[0m   aptitude         bootstrap.log  \u001b[01;31mdpkg.log.10.gz\u001b[0m  \u001b[01;31mfail2ban.log.3.gz\u001b[0m  \u001b[01;34mlightdm\u001b[0m/       \u001b[01;31mmysql.log.4.gz\u001b[0m    syslog                 Xorg.0.log\r\n",
        "\u001b[01;31malternatives.log.6.gz\u001b[0m   \u001b[01;31maptitude.1.gz\u001b[0m    btmp           \u001b[01;31mdpkg.log.11.gz\u001b[0m  \u001b[01;31mfail2ban.log.4.gz\u001b[0m  mail.err       \u001b[01;31mmysql.log.5.gz\u001b[0m    syslog.1               Xorg.0.log.old\r\n",
        "\u001b[01;31malternatives.log.7.gz\u001b[0m   \u001b[01;31maptitude.2.gz\u001b[0m    btmp.1         \u001b[01;31mdpkg.log.12.gz\u001b[0m  faillog            mail.err.1     \u001b[01;31mmysql.log.6.gz\u001b[0m    \u001b[01;31msyslog.2.gz\u001b[0m            Xorg.2.log\r\n",
        "\u001b[01;31malternatives.log.8.gz\u001b[0m   \u001b[01;31maptitude.3.gz\u001b[0m    \u001b[01;34mConsoleKit\u001b[0m/    \u001b[01;31mdpkg.log.2.gz\u001b[0m   fontconfig.log     mail.log       \u001b[01;31mmysql.log.7.gz\u001b[0m    \u001b[01;31msyslog.3.gz\u001b[0m            xrdp-sesman.log\r\n",
        "\u001b[01;31malternatives.log.9.gz\u001b[0m   \u001b[01;31maptitude.4.gz\u001b[0m    \u001b[01;34mcups\u001b[0m/          \u001b[01;31mdpkg.log.3.gz\u001b[0m   \u001b[01;34mfsck\u001b[0m/              mail.log.1     \u001b[01;34mnews\u001b[0m/             \u001b[01;31msyslog.4.gz\u001b[0m\r\n",
        "apport.log              \u001b[01;31maptitude.5.gz\u001b[0m    \u001b[01;34mdist-upgrade\u001b[0m/  \u001b[01;31mdpkg.log.4.gz\u001b[0m   \u001b[01;34mhp\u001b[0m/                \u001b[01;31mmail.log.2.gz\u001b[0m  \u001b[01;34mntop\u001b[0m/             \u001b[01;31msyslog.5.gz\u001b[0m\r\n",
        "apport.log.1            \u001b[01;31maptitude.6.gz\u001b[0m    dmesg          \u001b[01;31mdpkg.log.5.gz\u001b[0m   \u001b[01;34minstaller\u001b[0m/         \u001b[01;31mmail.log.3.gz\u001b[0m  pm-powersave.log  \u001b[01;31msyslog.6.gz\u001b[0m\r\n"
       ]
      }
     ],
     "prompt_number": 4
    }
   ],
   "metadata": {}
  }
 ]
}