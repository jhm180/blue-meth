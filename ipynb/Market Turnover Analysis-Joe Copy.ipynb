{
 "metadata": {
  "name": "Market Turnover Analysis-Joe Copy"
 },
 "nbformat": 3,
 "nbformat_minor": 0,
 "worksheets": [
  {
   "cells": [
    {
     "cell_type": "code",
     "collapsed": false,
     "input": [
      "import pandas as pd\n",
      "import numpy as np\n",
      "import MySQLdb\n",
      "c = MySQLdb.connect('localhost', 'root', '3lihu_r007', 'rapnet_listings')\n",
      "import pandas.io.sql as psql\n",
      "import matplotlib.pyplot as plt\n",
      "import pylab as pl\n",
      "from scipy.optimize import curve_fit\n",
      "from matplotlib.backends.backend_pdf import PdfPages\n",
      "\n",
      "df_removal_query = psql.read_frame(\"\"\"select ge.LotNum, ge.Price, ge.EventCount, l.Shape, convert(l.Carat, decimal(10,6)) as Carat, l.Color, l.Clarity, l.CutGrade, convert(l.Price, decimal(10,4)) as PricePerCarat, l.PctRap, l.Cert, l.Depth, l.TableWidth, l.Girdle, \n",
      "l.Culet, l.Polish, l.Sym, l.Fluor, l.Meas, l.RapnetComment, l.NumStones, l.CertNum, l.StockNum, l.Make, l.Date, l.City,\n",
      "l.State, l.Country \n",
      "from\n",
      "    listing l join (select le.LotNum, avg(le.Price) as Price, count(le.LotNum) as EventCount from\n",
      "\t\tlisting_event le join listing_event_code lec\n",
      "\t\ton le.EventCode = lec.Code\n",
      "\t\twhere lec.Description = 'Removed' and le.EventDate <= '2013-09-21' \n",
      "\t\tgroup by le.LotNum) ge\n",
      "    on l.LotNum = ge.LotNum\n",
      "    where ge.EventCount >= 1 and Carat >= 1.00 and Carat <1.10 \"\"\", c)\n",
      "\n",
      "#Need to add code to the above query that eliminates all diamonds that have been re-added in the past month...  \n",
      "\n",
      "print len(df_removal_query)"
     ],
     "language": "python",
     "metadata": {},
     "outputs": [
      {
       "output_type": "stream",
       "stream": "stdout",
       "text": [
        "72033\n"
       ]
      }
     ],
     "prompt_number": 14
    },
    {
     "cell_type": "code",
     "collapsed": false,
     "input": [
      "df_removal_query.to_csv('/home/oliver/Dropbox/whitepine/test.csv')"
     ],
     "language": "python",
     "metadata": {},
     "outputs": [],
     "prompt_number": 9
    },
    {
     "cell_type": "code",
     "collapsed": false,
     "input": [
      "### Code that looked at stones removed on 20130919 and tells you the 10 owners that had the most stones delisted - FROM Rapnet-Removals_20130919\n",
      "\n",
      "import pandas as pd\n",
      "\n",
      "import MySQLdb\n",
      "\n",
      "c = MySQLdb.connect('localhost', 'root', '3lihu_r007', 'rapnet_listings')\n",
      "\n",
      "import pandas.io.sql as psql\n",
      "\n",
      "df = psql.read_frame(\"\"\"select l.LotNum, l.Owner, le.EventCode from listing l join listing_event le on l.LotNum = le.LotNum\n",
      "where le.EventDate >= '2013-09-19' and le.EventCode = 2\n",
      "\"\"\", c, index_col = 'LotNum')\n",
      "\n",
      "by_owner = df.groupby('Owner').agg({'EventCode':len})\n",
      "\n",
      "print by_owner.sort('EventCode', ascending = False).head(10)"
     ],
     "language": "python",
     "metadata": {},
     "outputs": []
    },
    {
     "cell_type": "code",
     "collapsed": false,
     "input": [
      "### Looks like unfinished code from Ollie - from notebook named \"Rapnet\"\n",
      "\n",
      "import re, glob, os\n",
      "from os import path\n",
      "\n",
      "frex = re.compile('Rapnet_([0-9]+)_Main*')\n",
      "\n",
      "dates = []\n",
      "for f in glob.glob('/home/oliver/rapnet_data/Rapnet_*_Main*'):\n",
      "    m = frex.match(path.split(f)[1])\n",
      "    if m != None:\n",
      "        dates.append(int(m.group(1)))\n",
      "        #os.system('/home/oliver/src/mygo/bin/wpcmd import {0}'.format(m.group(1)))\n",
      "dates.sort()\n",
      "    "
     ],
     "language": "python",
     "metadata": {},
     "outputs": [],
     "prompt_number": "*"
    }
   ],
   "metadata": {}
  }
 ]
}