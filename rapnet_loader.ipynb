{
 "metadata": {
  "name": ""
 },
 "nbformat": 3,
 "nbformat_minor": 0,
 "worksheets": [
  {
   "cells": [
    {
     "cell_type": "code",
     "collapsed": false,
     "input": [
      "import rapnet_loader as rl\n",
      "# uncomment and run the following line to see the source for rapnet_loader\n",
      "#%load /home/oliver/ipynb/rapnet_loader.py\n",
      "\n",
      "#ADD = 1\n",
      "#REMOVE = 2\n",
      "#READD = 3\n",
      "#PRICE_CHANGE = 4\n"
     ],
     "language": "python",
     "metadata": {},
     "outputs": [],
     "prompt_number": 5
    },
    {
     "cell_type": "code",
     "collapsed": false,
     "input": [
      "all_df, current_df, file_date = rl.load_cache()\n",
      "# all_df is the whole database, with the event types you see in the above cell\n",
      "# the index is a multiindex with levels ('event_type','Owner','CertNum,'event_day')\n",
      "\n",
      "#this gets the latest removals:\n",
      "prev_removals = all_df.xs(rl.REMOVE, level='event_type').groupby(level=['Owner','CertNum']).apply(rl.get_latest)"
     ],
     "language": "python",
     "metadata": {},
     "outputs": [
      {
       "output_type": "stream",
       "stream": "stdout",
       "text": [
        "cache load took 0:00:21.704071\n"
       ]
      }
     ],
     "prompt_number": 6
    },
    {
     "cell_type": "code",
     "collapsed": false,
     "input": [
      "len(current_df[np.isnan(current_df.Price)]) / float(len(current_df))\n"
     ],
     "language": "python",
     "metadata": {},
     "outputs": [
      {
       "metadata": {},
       "output_type": "pyout",
       "prompt_number": 10,
       "text": [
        "0.07577035106546068"
       ]
      }
     ],
     "prompt_number": 10
    },
    {
     "cell_type": "code",
     "collapsed": false,
     "input": [],
     "language": "python",
     "metadata": {},
     "outputs": []
    }
   ],
   "metadata": {}
  }
 ]
}